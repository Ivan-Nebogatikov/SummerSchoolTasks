{
 "cells": [
  {
   "cell_type": "markdown",
   "metadata": {},
   "source": [
    "1. Фигуры \n",
    "\n",
    "Есть интерфейс \"фигура\", который предполагает, что у фигуры можно вычислить площадь."
   ]
  },
  {
   "cell_type": "code",
   "execution_count": null,
   "metadata": {},
   "outputs": [],
   "source": [
    "using System;\n",
    "using System.Collections.Generic;\n",
    "\n",
    "public interface Shape\n",
    "{\n",
    "    public double Area();\n",
    "}"
   ]
  },
  {
   "cell_type": "markdown",
   "metadata": {},
   "source": [
    "Необходимо реализовать 2 фигуры: квадрат и прямоугольник.\n",
    "\n",
    "И определить их отношение, что от чего наследуется: квадрат от прямоугольника, прямоугольник от квадрата, никто ни от кого, или друг от друга?\n",
    "\n",
    "У фигуры должно быть можно получить и задать размеры сторон."
   ]
  },
  {
   "cell_type": "code",
   "execution_count": null,
   "metadata": {},
   "outputs": [],
   "source": [
    "public class Rectangle : ...?, Shape\n",
    "{\n",
    "    ...\n",
    "}\n",
    "\n",
    "public class Square : ...?, Shape\n",
    "{\n",
    "    ...\n",
    "}"
   ]
  },
  {
   "cell_type": "markdown",
   "metadata": {},
   "source": [
    "\n",
    "-----------------------------------\n",
    "\n",
    "2. Бесконечные последовательности \n",
    "\n",
    "Создать метод, генерирующий потенциально бесконечную последовательность квадратов натуральных чисел. То есть метод должен возвращать 1, 4, 9, 16, 25 … \n",
    "\n",
    "Программа не должен потреблять память на хранение всех вычисленных элементов.\n",
    "\n",
    "Нужно воспользоваться опертором yield return https://docs.microsoft.com/ru-ru/dotnet/csharp/language-reference/keywords/yield, смотрите пример."
   ]
  },
  {
   "cell_type": "code",
   "execution_count": null,
   "metadata": {},
   "outputs": [],
   "source": [
    "public IEnumerable<long> Power2()\n",
    "{\n",
    "    ...\n",
    "}\n",
    "\n",
    "foreach(long pow in Power2().Skip(100000).Take(10))\n",
    "{\n",
    "    Console.WriteLine(pow);\n",
    "}"
   ]
  },
  {
   "cell_type": "markdown",
   "metadata": {},
   "source": [
    "\n",
    "-----------------------------------\n",
    "\n",
    "3. Обработка коллекций"
   ]
  },
  {
   "cell_type": "code",
   "execution_count": null,
   "metadata": {},
   "outputs": [],
   "source": [
    "public enum Gender\n",
    "{\n",
    "    Male,\n",
    "    Female\n",
    "}\n",
    "\n",
    "public class Person\n",
    "{\n",
    "    public string FullName { get; set; }\n",
    "    public int Age { get; set; }\n",
    "    public Gender Gender { get; set; }\n",
    "}\n",
    "\n",
    "var persons = new List<Person>\n",
    "{\n",
    "    new Person{FullName = \"Wil Willis\", Age = 42, Gender = Gender.Male },\n",
    "    new Person{FullName = \"David Baker\", Age = 24, Gender = Gender.Male },\n",
    "    new Person{FullName = \"Doug Marcaida\", Age = 33, Gender = Gender.Female },\n",
    "    new Person{FullName = \"J. Neilson\", Age = 76, Gender = Gender.Female },\n",
    "    new Person{FullName = \"Jason Knight\", Age = 5, Gender = Gender.Female },\n",
    "    new Person{FullName = \"Ben Abbott\", Age = 61, Gender = Gender.Male },\n",
    "    new Person{FullName = \"Bill Goldberg\", Age = 22, Gender = Gender.Female },\n",
    "    new Person{FullName = \"Tu Lam\", Age = 45, Gender = Gender.Male },\n",
    "};\n"
   ]
  },
  {
   "cell_type": "markdown",
   "metadata": {},
   "source": [
    "Выше описан список людей. Необходимо:\n",
    "\n",
    "1) Вычислить средний возраст людей, у которых в имени меньше 4-х букв. (не полном имени, а отдельно, то есть \"Ben Abbott\" Имя-Фамилия -- 3 буквы в имени)\n",
    "\n",
    "2) Вывести имена мужчин старше 40 лет.\n",
    "\n",
    "Может сильно помочь описание языка запросов: https://docs.microsoft.com/ru-ru/dotnet/api/system.linq.enumerable?view=netcore-3.1 , https://metanit.com/sharp/tutorial/15.1.php\n",
    "\n",
    "В частности функции Select, Where, Average\n",
    "\n",
    "И метод String.Split https://docs.microsoft.com/ru-ru/dotnet/api/system.string.split?view=netcore-3.1"
   ]
  },
  {
   "cell_type": "code",
   "execution_count": null,
   "metadata": {},
   "outputs": [],
   "source": [
    "\n",
    "double averageAge = persons....;\n",
    "Console.WriteLine(averageAge);\n",
    "Console.WriteLine();\n",
    "\n",
    "IEnumerable<string> names = persons....;\n",
    "foreach(string name in names)\n",
    "{\n",
    "    Console.WriteLine(name);\n",
    "}"
   ]
  },
  {
   "cell_type": "markdown",
   "metadata": {},
   "source": [
    "\n",
    "-----------------------------------\n",
    "\n",
    "4. Вопрос с подвохом\n",
    "\n",
    "Говорят, такое любят спрашивать на собеседованиях.\n",
    "\n",
    "Добавим в обработку предыдущей коллекции следующее: будем на ходу считать, сколько в коллекции элементов.\n",
    "\n",
    "Проблема в том, что в конце выведется не то, что мы хотим.\n",
    "\n",
    "Почему это происходит? И что надо сделать, чтобы получилось правильное число?"
   ]
  },
  {
   "cell_type": "code",
   "execution_count": null,
   "metadata": {},
   "outputs": [],
   "source": [
    "int elements = 0;\n",
    "IEnumerable<string> names = persons.Where(x => \n",
    "                                          {\n",
    "                                              ++elements;\n",
    "                                              return x.Gender == Gender.Female;\n",
    "                                          })\n",
    "                                            .Select(x => x.FullName);\n",
    "\n",
    "Console.WriteLine(elements);"
   ]
  }
 ],
 "metadata": {
  "kernelspec": {
   "display_name": ".NET (C#)",
   "language": "C#",
   "name": ".net-csharp"
  },
  "language_info": {
   "file_extension": ".cs",
   "mimetype": "text/x-csharp",
   "name": "C#",
   "pygments_lexer": "csharp",
   "version": "8.0"
  }
 },
 "nbformat": 4,
 "nbformat_minor": 4
}
